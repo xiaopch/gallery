{
 "cells": [
  {
   "cell_type": "markdown",
   "metadata": {},
   "source": [
    "### 安装pymongo模块"
   ]
  },
  {
   "cell_type": "code",
   "execution_count": null,
   "metadata": {
    "scrolled": true
   },
   "outputs": [],
   "source": [
    "!pip install pymongo"
   ]
  },
  {
   "cell_type": "markdown",
   "metadata": {},
   "source": [
    "### 连接mongodb数据库"
   ]
  },
  {
   "cell_type": "code",
   "execution_count": 1,
   "metadata": {},
   "outputs": [],
   "source": [
    "from pymongo import MongoClient\n",
    "client = MongoClient()\n",
    "#创建数据库，两种方式\n",
    "db = client.peopleinfo     #方式一\n",
    "# db = client['peopleinfo']  #方式二\n",
    "#创建数据表，两种方式\n",
    "collection = db.person\n",
    "# collection = db['person']"
   ]
  },
  {
   "cell_type": "markdown",
   "metadata": {},
   "source": [
    "### 插入数据"
   ]
  },
  {
   "cell_type": "code",
   "execution_count": 19,
   "metadata": {},
   "outputs": [
    {
     "data": {
      "text/plain": [
       "<pymongo.results.InsertOneResult at 0x1ea0a0939c8>"
      ]
     },
     "execution_count": 19,
     "metadata": {},
     "output_type": "execute_result"
    }
   ],
   "source": [
    "data = {'id':123, 'name':'Neil', 'age':80, 'sex':'male'}\n",
    "collection.insert_one(data)"
   ]
  },
  {
   "cell_type": "markdown",
   "metadata": {},
   "source": [
    "### 更新数据"
   ]
  },
  {
   "cell_type": "code",
   "execution_count": 15,
   "metadata": {},
   "outputs": [
    {
     "data": {
      "text/plain": [
       "<pymongo.results.UpdateResult at 0x1ea0a093608>"
      ]
     },
     "execution_count": 15,
     "metadata": {},
     "output_type": "execute_result"
    }
   ],
   "source": [
    "collection.update_many({'sex':'male'}, {'$set':{'age':20}})"
   ]
  },
  {
   "cell_type": "markdown",
   "metadata": {},
   "source": [
    "### 删除数据"
   ]
  },
  {
   "cell_type": "code",
   "execution_count": 17,
   "metadata": {},
   "outputs": [
    {
     "data": {
      "text/plain": [
       "<pymongo.results.DeleteResult at 0x1ea0a098288>"
      ]
     },
     "execution_count": 17,
     "metadata": {},
     "output_type": "execute_result"
    }
   ],
   "source": [
    "collection.delete_one({'name':'Neil'})#删除名字为Neil的记录"
   ]
  },
  {
   "cell_type": "markdown",
   "metadata": {},
   "source": [
    "### 查找数据"
   ]
  },
  {
   "cell_type": "code",
   "execution_count": 25,
   "metadata": {
    "scrolled": true
   },
   "outputs": [
    {
     "name": "stdout",
     "output_type": "stream",
     "text": [
      "<pymongo.cursor.Cursor object at 0x000001EA0A0A5788>\n",
      "{'_id': ObjectId('5e7b1990fd8e8851752b4114'), 'id': 123, 'name': 'Neil', 'age': 20, 'sex': 'male'}\n",
      "{'_id': ObjectId('5e7b19c4fd8e8851752b4116'), 'id': 123, 'name': 'Neil', 'age': 20, 'sex': 'male'}\n",
      "{'_id': ObjectId('5e7b19e3fd8e8851752b4117'), 'id': 123, 'name': 'Neil', 'age': 20, 'sex': 'male'}\n",
      "{'_id': ObjectId('5e7b1b2dfd8e8851752b4118'), 'id': 123, 'name': 'Neil', 'age': 80, 'sex': 'male'}\n"
     ]
    }
   ],
   "source": [
    "cursor = collection.find()#返回集合col中的所有内容\n",
    "print(cursor)\n",
    "for item in cursor:\n",
    "    print(item)\n",
    "# content = collection.find({'age':20})#查找所有年龄为20的记录信息"
   ]
  },
  {
   "cell_type": "code",
   "execution_count": null,
   "metadata": {},
   "outputs": [],
   "source": [
    "collection转化为pandas的dataframe"
   ]
  },
  {
   "cell_type": "code",
   "execution_count": 35,
   "metadata": {},
   "outputs": [
    {
     "name": "stdout",
     "output_type": "stream",
     "text": [
      "                        _id   id  name  age   sex\n",
      "0  5e7b1990fd8e8851752b4114  123  Neil   20  male\n",
      "1  5e7b19c4fd8e8851752b4116  123  Neil   20  male\n",
      "2  5e7b19e3fd8e8851752b4117  123  Neil   20  male\n",
      "3  5e7b1b2dfd8e8851752b4118  123  Neil   80  male\n"
     ]
    }
   ],
   "source": [
    "import pandas as pd\n",
    "cursor = collection.find()##.limit(10)\n",
    "df = pd.DataFrame(list(cursor))\n",
    "print(df)"
   ]
  },
  {
   "cell_type": "markdown",
   "metadata": {},
   "source": [
    "### pandas的dataframe插入到collection"
   ]
  },
  {
   "cell_type": "code",
   "execution_count": null,
   "metadata": {},
   "outputs": [],
   "source": [
    "db.set2.insert_many(df.to_dict(orient='records'))"
   ]
  }
 ],
 "metadata": {
  "kernelspec": {
   "display_name": "Python 3",
   "language": "python",
   "name": "python3"
  },
  "language_info": {
   "codemirror_mode": {
    "name": "ipython",
    "version": 3
   },
   "file_extension": ".py",
   "mimetype": "text/x-python",
   "name": "python",
   "nbconvert_exporter": "python",
   "pygments_lexer": "ipython3",
   "version": "3.7.4"
  }
 },
 "nbformat": 4,
 "nbformat_minor": 4
}
