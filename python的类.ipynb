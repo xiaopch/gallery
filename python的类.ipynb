{
 "cells": [
  {
   "cell_type": "code",
   "execution_count": 7,
   "metadata": {},
   "outputs": [
    {
     "name": "stdout",
     "output_type": "stream",
     "text": [
      "I am xiaopch\n",
      "2020\n"
     ]
    }
   ],
   "source": [
    "class author:\n",
    "    date = '2020'        #类的共有属性  \n",
    "    __name = 'xiaopch'   #类的私有属性\n",
    "    __age = '30'         #__表示类的私有属性\n",
    "    def show_info(self):\n",
    "        print('I am %s' % self.__name)\n",
    "        \n",
    "#类的继承\n",
    "class plan(author):\n",
    "    __list=[]\n",
    "if __name__ == '__main__':\n",
    "    inst = plan()\n",
    "    inst.show_info()\n",
    "    print(inst.date)\n",
    "    "
   ]
  }
 ],
 "metadata": {
  "kernelspec": {
   "display_name": "Python 3",
   "language": "python",
   "name": "python3"
  },
  "language_info": {
   "codemirror_mode": {
    "name": "ipython",
    "version": 3
   },
   "file_extension": ".py",
   "mimetype": "text/x-python",
   "name": "python",
   "nbconvert_exporter": "python",
   "pygments_lexer": "ipython3",
   "version": "3.7.4"
  }
 },
 "nbformat": 4,
 "nbformat_minor": 4
}
